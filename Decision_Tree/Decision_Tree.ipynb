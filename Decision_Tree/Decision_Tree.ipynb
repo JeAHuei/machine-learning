{
 "cells": [
  {
   "cell_type": "markdown",
   "metadata": {},
   "source": [
    "##   Machine Learning Lab #1 Decision Tree"
   ]
  },
  {
   "cell_type": "code",
   "execution_count": 1,
   "metadata": {},
   "outputs": [],
   "source": [
    "import numpy as np\n",
    "def entropy(target):\n",
    "    # Gets the value of the target column and its corresponding number\n",
    "    values,counts = np.unique(target,return_counts = True)\n",
    "    # Gets the total number of data in the target column\n",
    "    num = np.sum(counts)\n",
    "    entropy_target = np.sum([(-counts[i] / num) * np.log2(counts[i] / num)for i in range(len(values))])\n",
    "    return entropy_target"
   ]
  },
  {
   "cell_type": "code",
   "execution_count": 2,
   "metadata": {},
   "outputs": [],
   "source": [
    "import numpy as np\n",
    "import pandas as pd\n",
    "\n",
    "def information_gain(feature,dataset):\n",
    "    # Information entropy for the label column\n",
    "    entropy_label = entropy(dataset[0])\n",
    "    # The value and quantity of the characteristic column\n",
    "    vals,counts = np.unique(dataset[feature],return_counts = True)\n",
    "    # conditional entropy\n",
    "    num = np.sum(counts)\n",
    "    condition_entropy = np.sum([(counts[i]/num) * entropy(dataset.where(dataset[feature]==vals[i]).dropna().iloc[:,0]) for i in range(len(vals))])\n",
    "    information_gain_value = entropy_label - condition_entropy\n",
    "    \n",
    "    return information_gain_value"
   ]
  },
  {
   "cell_type": "code",
   "execution_count": 3,
   "metadata": {},
   "outputs": [],
   "source": [
    "# Define classification function\n",
    "def majorityClass(dataset, label_index):\n",
    "    index = np.argmax(np.unique(dataset.iloc[:, label_index], return_counts = True)[1])\n",
    "    majorityClass_value = np.unique(dataset.iloc[:, label_index])[index]\n",
    "    return majorityClass_value"
   ]
  },
  {
   "cell_type": "markdown",
   "metadata": {},
   "source": [
    "**ID3 Decision Tree Pseudocode**"
   ]
  },
  {
   "cell_type": "markdown",
   "metadata": {},
   "source": [
    "    function DecisionTree(dataset,original_dataset,features,label_index,parent_node_class):\n",
    "        Create a root node r\n",
    "        If all target_values have the same value:\n",
    "            return r\n",
    "        If the dataset is empty\n",
    "            return the value of the target feature in the original dataset\n",
    "        If the features space is empty\n",
    "            return the target feature of the direct patent node\n",
    "        else\n",
    "            Grow the Decision Tree\n",
    "        \n",
    "            Feature =  the biggest value of the information_gain_list\n",
    "            best_feature_index = the index of the biggest information_gain value\n",
    "            feature_original_index = original index of the biggset information gain value\n",
    "            Update the features that are not used to create tree node\n",
    "            for every key in dataset[feature_original_index]\n",
    "                Create sub_data which will be not include the used feature columns\n",
    "                Call DecisionTree\n",
    "        return tree"
   ]
  },
  {
   "cell_type": "code",
   "execution_count": 4,
   "metadata": {},
   "outputs": [],
   "source": [
    "# create DecisionTree\n",
    "def DecisionTree(dataset,original_dataset,features,label_index = 0,parent_node_class = None):\n",
    "    # By default, unique gets the value of the feature column\n",
    "    if len(np.unique(dataset.iloc[:, label_index])) == 1:\n",
    "            return np.unique(dataset.iloc[:,label_index])[0] \n",
    "    # If the dataset is empty, the value of the target feature in the original dataset is returned\n",
    "    elif len(dataset) == 0:\n",
    "        majorityClass_value = majorityClass(original_dataset, label_index)\n",
    "        return majorityClass_value\n",
    "    elif len(features) == 0:\n",
    "        return parent_node_class\n",
    "    else:\n",
    "        parent_node_class = majorityClass(dataset, label_index)\n",
    "        information_gain_list = [information_gain(feature,dataset) for feature in features]\n",
    "        feature_index = np.argmax(information_gain_list)\n",
    "        feature_best_index = features[feature_index]\n",
    "        tree = {feature_best_index:{}}\n",
    "        features = [i for i in features if i != feature_best_index]\n",
    "    \n",
    "        for key in np.unique(dataset[feature_best_index]):\n",
    "            sub_data = dataset.where(dataset.iloc[:, feature_best_index] == key).dropna() # 去除含特殊值的某列\n",
    "            tree[feature_best_index][key] = DecisionTree(sub_data,dataset,features,label_index,parent_node_class)\n",
    "        return tree"
   ]
  },
  {
   "cell_type": "markdown",
   "metadata": {},
   "source": [
    "**Predict the tree**\n",
    "\n",
    "Reference\n",
    "https://www.python-course.eu/Decision_Trees.php"
   ]
  },
  {
   "cell_type": "markdown",
   "metadata": {},
   "source": [
    "* If this feature is present in the tree.keys() of the first call, check each feature in the query instance    \n",
    "    * If the value does not exist, the default value, the multinumeric value of the target property, is returned\n",
    "* Follow the tree from top to bottom until reach the leaf node"
   ]
  },
  {
   "cell_type": "code",
   "execution_count": 5,
   "metadata": {},
   "outputs": [],
   "source": [
    "# Predict function\n",
    "def predict(query, tree, default = 1.0):\n",
    "    for key in list(query.keys()):\n",
    "        if key in list(tree.keys()):\n",
    "            try:\n",
    "                result = tree[key][query[key]]\n",
    "            except:\n",
    "                return default\n",
    "            result = tree[key][query[key]]\n",
    "            # The isinstance function is used to implement the recognition classification\n",
    "            if isinstance(result, dict):\n",
    "                return predict(query, result)\n",
    "            else:\n",
    "                return result"
   ]
  },
  {
   "cell_type": "code",
   "execution_count": 6,
   "metadata": {},
   "outputs": [],
   "source": [
    "# train the dataset and output accuracy\n",
    "def test_function(dataset,tree,y_test):\n",
    "    # Select the test data set and turn it into a dictionary, selecting each row of data\n",
    "    queries = dataset.to_dict(orient = \"records\")\n",
    "    # Create an empty DataFrame to store the data results predicted by the decision tree\n",
    "    predicted = pd.DataFrame(columns = [\"predicted\"])\n",
    "    y_test = y_test.reset_index(drop = True)\n",
    "    for i in range(len(dataset)):\n",
    "        predicted.loc[i,\"predicted\"] = predict(queries[i],tree,1.0)\n",
    "    accuracy = np.sum(predicted[\"predicted\"] == y_test)/len(dataset)\n",
    "    return accuracy"
   ]
  },
  {
   "cell_type": "markdown",
   "metadata": {},
   "source": [
    "### Exercise 1 Plot the accuracy changes in the different size "
   ]
  },
  {
   "cell_type": "markdown",
   "metadata": {},
   "source": [
    "    # drop the row data that include \"?\"\n",
    "    originaldataset = df[df[:] != '?'].dropna()"
   ]
  },
  {
   "cell_type": "markdown",
   "metadata": {},
   "source": [
    "    # Partition data set\n",
    "    dataset, test_dataset = train_test_split(originaldataset,test_size=test_size,random_state=0,shuffle = True)"
   ]
  },
  {
   "cell_type": "markdown",
   "metadata": {},
   "source": [
    "    # Plot tree\n",
    "    # Reference\n",
    "    # http://yshblog.com/blog/121\n",
    "    # Machine learning in Action Chapter 3\n",
    "    treePlot.createPlot(tree)"
   ]
  },
  {
   "cell_type": "code",
   "execution_count": 10,
   "metadata": {
    "scrolled": true
   },
   "outputs": [
    {
     "data": {
      "image/png": "[encoded data removed]",
      "text/plain": [
       "<Figure size 432x288 with 1 Axes>"
      ]
     },
     "metadata": {},
     "output_type": "display_data"
    },
    {
     "name": "stdout",
     "output_type": "stream",
     "text": [
      "[0.875, 0.9361702127659575, 0.9428571428571428, 0.956989247311828, 0.9655172413793104]\n"
     ]
    },
    {
     "data": {
      "image/png": "[encoded data removed]",
      "text/plain": [
       "<Figure size 432x288 with 1 Axes>"
      ]
     },
     "metadata": {},
     "output_type": "display_data"
    }
   ],
   "source": [
    "import pandas as pd\n",
    "import numpy as np\n",
    "from pandas import Series, DataFrame\n",
    "from sklearn.model_selection import train_test_split\n",
    "import matplotlib.pyplot as plt \n",
    "import treePlot\n",
    "\n",
    "if __name__ == \"__main__\":\n",
    "    df = pd.read_csv(\"house-votes-1984.txt\", header = None)\n",
    "    originaldataset = df[df[:] != '?'].dropna()\n",
    "    label_list = originaldataset[0]\n",
    "    information_gain_list = []\n",
    "    features = [i for i in range(1,17)]\n",
    "    name_list = ['0.1','0.2','0.3','0.4','0.5']\n",
    "    accuracy_list = []\n",
    "    for i in range(1,6):\n",
    "        test_size = 0.1 * i\n",
    "        dataset, test_dataset = train_test_split(originaldataset,test_size=test_size,random_state=0,shuffle = True)\n",
    "        tree = DecisionTree(dataset,dataset,features,label_index = 0)\n",
    "        # Build the subtree when test_size = 0.3\n",
    "        if i == 3:\n",
    "            treePlot.createPlot(tree)\n",
    "            accuracy_before = test_function(X_test,tree,y_test)\n",
    "        y_test = test_dataset[0]\n",
    "        X_test = test_dataset.drop(columns = 0, axis = 1)\n",
    "        accuracy = test_function(X_test,tree,y_test)\n",
    "        accuracy_list += [accuracy]\n",
    "    print(accuracy_list)\n",
    "    plt.bar(range(len(accuracy_list)),accuracy_list,color = 'green',tick_label = name_list,width = 0.2)\n",
    "    plt.show()"
   ]
  },
  {
   "cell_type": "markdown",
   "metadata": {},
   "source": [
    "### Exercise 2  Find the most prominent feature"
   ]
  },
  {
   "cell_type": "markdown",
   "metadata": {},
   "source": [
    "The column number of the most prominent feature is 4.\n",
    "The root of DecisionTree is feature 4. And it depends on information_gain_list, obviously the index of the biggest information gain value is 4."
   ]
  },
  {
   "cell_type": "markdown",
   "metadata": {},
   "source": [
    "### Exercise 3 Prun the decision tree"
   ]
  },
  {
   "cell_type": "markdown",
   "metadata": {},
   "source": [
    "#### the Prun Decision Tree pseudocode："
   ]
  },
  {
   "cell_type": "markdown",
   "metadata": {},
   "source": [
    "    function postPrunTree(tree,dataset,accuracy_before,accuracy_after):\n",
    "        Get the keys of the dict\n",
    "        for key in dict:\n",
    "            extract the branch node in the tree\n",
    "            sub_tree =(postPrunTree(tree,dataset,accuracy_before,accuracy_after)\n",
    "        for every node of subtree\n",
    "            obtain the accuracy_before before it is pruned\n",
    "            obtain the accuracy_after if it is pruned\n",
    "            if accuracy_after > accuracy_before\n",
    "                prun decision tree\n",
    "                return majorityClass\n",
    "        return tree"
   ]
  },
  {
   "cell_type": "code",
   "execution_count": 8,
   "metadata": {
    "scrolled": true
   },
   "outputs": [
    {
     "data": {
      "image/png": "[encoded data removed]",
      "text/plain": [
       "<Figure size 432x288 with 1 Axes>"
      ]
     },
     "metadata": {},
     "output_type": "display_data"
    },
    {
     "name": "stdout",
     "output_type": "stream",
     "text": [
      "0.9571428571428572\n",
      "[0.9428571428571428, 0.9571428571428572]\n"
     ]
    },
    {
     "data": {
      "image/png": "[encoded data removed]",
      "text/plain": [
       "<Figure size 432x288 with 1 Axes>"
      ]
     },
     "metadata": {},
     "output_type": "display_data"
    }
   ],
   "source": [
    "import treePlot\n",
    "def postPrunTree(tree, node_list, X_test, y_test,accuracy_before,accuracy_after,count):\n",
    "    firstKey = list(tree.keys())[0]\n",
    "    secondDict = tree[firstKey]\n",
    "    accuracy_before = accuracy_before\n",
    "    accuracy_after = test_function(X_test,tree,y_test)    \n",
    "    before_list.append(accuracy_before)\n",
    "    after_list.append(accuracy_after)\n",
    "    for key in secondDict.keys():\n",
    "        # Find the node of the corresponding branch and then cut the branch\n",
    "        if type(secondDict[key]).__name__=='dict':\n",
    "            if type(firstKey).__name__ == 'int':\n",
    "                node_list.append(firstKey)\n",
    "                tree[firstKey][key]=postPrunTree(secondDict[key],node_list,X_test, y_test,accuracy_after,accuracy_after,count) \n",
    "    count += 1\n",
    "    lenlist= len(before_list)\n",
    "    i = lenlist - count\n",
    "    if before_list[i] < after_list[i] :\n",
    "        majorityClassFeat = majorityClass(X_test,firstKey)\n",
    "        majorityClassVal = tree[firstKey][majorityClassFeat]\n",
    "        #print(majorityClassVal)\n",
    "        return majorityClassVal\n",
    "    return tree\n",
    "df = pd.read_csv(\"house-votes-1984.txt\", header = None)\n",
    "originaldataset = df[df[:] != '?'].dropna()\n",
    "dataset, test_dataset = train_test_split(originaldataset,test_size=0.3,random_state=42,shuffle = True)\n",
    "y_test = test_dataset[0]\n",
    "X_test = test_dataset.drop(columns = 0, axis = 1)\n",
    "accuracy = 0.9428571428571428\n",
    "node_list = []\n",
    "before_list = []\n",
    "after_list = []\n",
    "count = 0\n",
    "prunTree = postPrunTree(tree, node_list, X_test, y_test,accuracy,accuracy,count)\n",
    "treePlot.createPlot(prunTree)\n",
    "prun_accuracy = test_function(X_test,prunTree,y_test)\n",
    "print(prun_accuracy)\n",
    "accuracy_list = [accuracy,prun_accuracy]\n",
    "print(accuracy_list)\n",
    "name_list = ['not prun','prun']\n",
    "plt.bar(range(len(accuracy_list)),accuracy_list,color = 'skyblue',width = 0.2,tick_label = name_list)\n",
    "plt.show()"
   ]
  },
  {
   "cell_type": "markdown",
   "metadata": {},
   "source": [
    "The accuracy is 0.957 by prunning the decision tree, and it is improved about 1%."
   ]
  },
  {
   "cell_type": "markdown",
   "metadata": {},
   "source": [
    "### Exercise 4  Decision Tree at depth 1, 2, 3"
   ]
  },
  {
   "cell_type": "code",
   "execution_count": 9,
   "metadata": {},
   "outputs": [
    {
     "data": {
      "image/png": "[encoded data removed]",
      "text/plain": [
       "<Figure size 432x288 with 1 Axes>"
      ]
     },
     "metadata": {},
     "output_type": "display_data"
    }
   ],
   "source": [
    "# depth at 1,2,3\n",
    "import treePlot\n",
    "\n",
    "def firstKey(tree):\n",
    "    firstKey = list(tree.keys())[0]\n",
    "    return firstKey\n",
    "tree1 = prunTree[firstKey(prunTree)]['y']\n",
    "tree2 = tree1[firstKey(tree1)]['y']\n",
    "tree2[firstKey(tree2)]['y'] = 'R'\n",
    "treePlot.createPlot(prunTree)"
   ]
  },
  {
   "cell_type": "markdown",
   "metadata": {},
   "source": [
    "## Machine Learning Pre Lab #2 SVM"
   ]
  },
  {
   "cell_type": "markdown",
   "metadata": {},
   "source": [
    "### Exercise  "
   ]
  },
  {
   "cell_type": "markdown",
   "metadata": {},
   "source": [
    "![title](/Users/jiahuiwang/Downloads/machine learning/Prelab2SVM.jpeg)"
   ]
  },
  {
   "cell_type": "markdown",
   "metadata": {},
   "source": [
    "Divide the pictures in ..*CarData/TrainImages* into ..*CarData/TrainImages/pos* and ..*CarData/TrainImages/neg*"
   ]
  },
  {
   "cell_type": "markdown",
   "metadata": {},
   "source": [
    "![title](/Users/jiahuiwang/Downloads/machine learning/Prelab2SVM2.jpeg)"
   ]
  },
  {
   "cell_type": "markdown",
   "metadata": {},
   "source": [
    "**The Detection Result**"
   ]
  },
  {
   "cell_type": "markdown",
   "metadata": {},
   "source": [
    "    # Run the test\n",
    "    '''\n",
    "    python3 extract_features.py -p ./CarData/TrainImages/pos -n ./CarData/TrainImages/neg\n",
    "    python3 train_classifier.py\n",
    "    python3 test_classifier.py -i 'CarData/TestImages/test-1.pgm'\n",
    "    '''"
   ]
  },
  {
   "cell_type": "markdown",
   "metadata": {},
   "source": [
    "![title](/Users/jiahuiwang/Downloads/machine learning/Prelab2SVM3.jpeg)"
   ]
  },
  {
   "cell_type": "markdown",
   "metadata": {},
   "source": [
    "### Question"
   ]
  },
  {
   "cell_type": "markdown",
   "metadata": {},
   "source": [
    "**Characters of HOG**"
   ]
  },
  {
   "cell_type": "markdown",
   "metadata": {},
   "source": [
    "* Used widely at Computer vision and Image processing to detect objects. \n",
    "* Computing on dense grid of uniformly spaced cells and uses overlapping lacal contrast normalization for improving accuracy\n",
    "* The representation and shape of a local target can be well described by the directional density distribution of the gradient or edge in an image.\n"
   ]
  },
  {
   "cell_type": "markdown",
   "metadata": {},
   "source": [
    "**Achieve feature descriptors**"
   ]
  },
  {
   "cell_type": "markdown",
   "metadata": {},
   "source": [
    "For target image:\n",
    "* Graying\n",
    "* Standardization(normalization) of color space of image by Gamma correction \n",
    "* Calculate the gradient of each pixel in the image\n",
    "* Divide the image into small cells\n",
    "* Count the gradient histogram of each cell\n",
    "* Putting the descriptor of all the cells together to get the descriptor of the block\n",
    "* Putting the descriptor of all the cells together to get the descriptor of the HOG"
   ]
  },
  {
   "cell_type": "markdown",
   "metadata": {},
   "source": [
    "**Sliding-windows algorithm for object detection**"
   ]
  },
  {
   "cell_type": "markdown",
   "metadata": {},
   "source": [
    "Sliding-windows algorithm is used to detect object accurately in a test images.\n",
    "* Pick sliding window of size(x) \n",
    "* Feed input region(x) to trained convert by sliding window over every part of input image\n",
    "* For each input region, convnet outputs whether it has a car or not.\n",
    "\n",
    "The smaller step size is, the more windows will need to examine.\n",
    "Increasing window and stride size makes it faster but at cost of decreased accuracy."
   ]
  },
  {
   "cell_type": "markdown",
   "metadata": {},
   "source": [
    "**Non-Maximum Suppression**"
   ]
  },
  {
   "cell_type": "markdown",
   "metadata": {},
   "source": [
    "NMS is used to extract the windows(sliding-windows) of the max score. As we all know, sliding-windows will lead to cross some windows or involve them with each other. NMS choose the max value of the windows to suppress Windows with low scores.\n",
    "\n",
    "How to choose the max value of the windows?\n",
    "Suppose that there are 6 rectangular boxs. Sort by category of classifier, possibility of the cars is A < B < C < D < E < F.\n",
    "\n",
    "1. Starting from the rectangle box F with the maximum probability, the IOU of the overlapping degree between A~E and F is greater than A certain threshold.\n",
    "\n",
    "2. If the overlap degree of B, D and F exceeds the threshold, B and D will be discarded; And mark the first rectangle F, which we have left.\n",
    "\n",
    "3. Select the most probable E from the remaining rectangular boxes A, C and E, and then judge the degree of overlap between E and A and C. If the degree of overlap is greater than A certain threshold, throw away; And mark E is the second rectangle we have left.\n",
    "\n",
    "You keep repeating, and you find all the boxes that are left."
   ]
  },
  {
   "cell_type": "code",
   "execution_count": null,
   "metadata": {},
   "outputs": [],
   "source": []
  }
 ],
 "metadata": {
  "kernelspec": {
   "display_name": "Python 3",
   "language": "python",
   "name": "python3"
  },
  "language_info": {
   "codemirror_mode": {
    "name": "ipython",
    "version": 3
   },
   "file_extension": ".py",
   "mimetype": "text/x-python",
   "name": "python",
   "nbconvert_exporter": "python",
   "pygments_lexer": "ipython3",
   "version": "3.6.5"
  }
 },
 "nbformat": 4,
 "nbformat_minor": 2
}
