{
 "cells": [
  {
   "cell_type": "code",
   "execution_count": 1,
   "metadata": {},
   "outputs": [],
   "source": [
    "import csv\n",
    "import os\n",
    "import numpy as np\n",
    "from sklearn.preprocessing import normalize"
   ]
  },
  {
   "cell_type": "code",
   "execution_count": 8,
   "metadata": {},
   "outputs": [],
   "source": [
    "from sklearn.svm import SVC\n",
    "from sklearn.neural_network import MLPClassifier"
   ]
  },
  {
   "cell_type": "code",
   "execution_count": 2,
   "metadata": {},
   "outputs": [],
   "source": [
    "cwd = os.getcwd()"
   ]
  },
  {
   "cell_type": "code",
   "execution_count": 3,
   "metadata": {},
   "outputs": [],
   "source": [
    "new_train_csv = os.path.join(cwd, 'data', 'train.csv')\n",
    "new_val_csv = os.path.join(cwd, 'data', 'val.csv')"
   ]
  },
  {
   "cell_type": "code",
   "execution_count": 4,
   "metadata": {},
   "outputs": [],
   "source": [
    "# 使用csv.reader读取数据\n",
    "def ReadData(file):\n",
    "    with open(file, 'r') as f:\n",
    "        newfile = csv.reader(f, delimiter = ';')\n",
    "        dataList = np.array(list(newfile))\n",
    "    return dataList"
   ]
  },
  {
   "cell_type": "code",
   "execution_count": 5,
   "metadata": {},
   "outputs": [],
   "source": [
    "def getXY(dataList, label):\n",
    "    features_name = dataList[0]\n",
    "    features_value = dataList[1:]\n",
    "    # 归一化所有数据\n",
    "    cols_name = list(features_name)\n",
    "    label_index = cols_name.index(label)\n",
    "    # 提取label列的数据\n",
    "    Y = [y for y in features_value[:,label_index]]\n",
    "    # 提取feature的数据\n",
    "    X = np.delete(features_value, label_index, axis = 1)\n",
    "    X = normalize(X, axis=0, norm='max')\n",
    "    return X, Y"
   ]
  },
  {
   "cell_type": "code",
   "execution_count": 6,
   "metadata": {},
   "outputs": [],
   "source": [
    "trainData = ReadData(new_train_csv)\n",
    "valData = ReadData(new_val_csv)"
   ]
  },
  {
   "cell_type": "code",
   "execution_count": 7,
   "metadata": {},
   "outputs": [],
   "source": [
    "X_train_class, Y_train_class = getXY(trainData, 'Reason for absence')\n",
    "X_val_class, Y_val_class = getXY(valData, 'Reason for absence')\n",
    "X_train_reg, Y_train_reg = getXY(trainData, 'Absenteeism time in hours')\n",
    "X_val_reg, Y_val_reg = getXY(valData, 'Absenteeism time in hours')"
   ]
  },
  {
   "cell_type": "markdown",
   "metadata": {},
   "source": [
    "### 使用SVM进行分类和回归"
   ]
  },
  {
   "cell_type": "code",
   "execution_count": 9,
   "metadata": {},
   "outputs": [],
   "source": [
    "# 用SVM分类：linear > rbf > sigmoid > poly\n",
    "clf = SVC(kernel='linear')\n",
    "clf.fit(X_train_class, Y_train_class)\n",
    "clf_predict = clf.predict(X_val_class)"
   ]
  },
  {
   "cell_type": "code",
   "execution_count": 10,
   "metadata": {},
   "outputs": [
    {
     "name": "stdout",
     "output_type": "stream",
     "text": [
      "0.24\n"
     ]
    }
   ],
   "source": [
    "from sklearn.metrics import f1_score \n",
    "micro_f1 = f1_score(Y_val_class, clf_predict, average='micro')\n",
    "print(micro_f1)"
   ]
  },
  {
   "cell_type": "code",
   "execution_count": 11,
   "metadata": {},
   "outputs": [],
   "source": [
    "Y_val_reg = list(map(float, Y_val_reg))"
   ]
  },
  {
   "cell_type": "code",
   "execution_count": 12,
   "metadata": {},
   "outputs": [],
   "source": [
    "# 用SVR回归\n",
    "from sklearn.svm import SVR\n",
    "clr = SVR()\n",
    "clr.fit(X_train_reg, Y_train_reg)\n",
    "clr_predict = clr.predict(X_val_reg)"
   ]
  },
  {
   "cell_type": "code",
   "execution_count": 13,
   "metadata": {},
   "outputs": [
    {
     "name": "stdout",
     "output_type": "stream",
     "text": [
      "190.663576374\n"
     ]
    }
   ],
   "source": [
    "from sklearn.metrics import mean_squared_error\n",
    "mse_reg = mean_squared_error(Y_val_reg, clr_predict)\n",
    "print(mse_reg)"
   ]
  },
  {
   "cell_type": "markdown",
   "metadata": {},
   "source": [
    "### 使用MLP进行分类和回归"
   ]
  },
  {
   "cell_type": "code",
   "execution_count": 14,
   "metadata": {},
   "outputs": [],
   "source": [
    "clf = MLPClassifier(solver='lbfgs', alpha=1e-5,hidden_layer_sizes=(100, 50), random_state=1)\n",
    "clf.fit(X_train_class,Y_train_class)\n",
    "clf_predict = clf.predict(X_val_class)"
   ]
  },
  {
   "cell_type": "code",
   "execution_count": 15,
   "metadata": {},
   "outputs": [
    {
     "name": "stdout",
     "output_type": "stream",
     "text": [
      "0.15\n"
     ]
    }
   ],
   "source": [
    "micro_f1 = f1_score(Y_val_class, clf_predict, average='micro')\n",
    "print(micro_f1)"
   ]
  },
  {
   "cell_type": "code",
   "execution_count": 16,
   "metadata": {},
   "outputs": [],
   "source": [
    "X_train_reg0 = [list(map(float, x)) for x in X_train_reg]\n",
    "Y_train_reg0 = list(map(float, Y_train_reg))\n",
    "Y_val_reg = list(map(float, Y_val_reg))"
   ]
  },
  {
   "cell_type": "code",
   "execution_count": 17,
   "metadata": {},
   "outputs": [],
   "source": [
    "# 用MLPRegressor进行回归分析\n",
    "from sklearn.neural_network import MLPRegressor\n",
    "clr = MLPRegressor(solver='lbfgs', alpha=1e-5,hidden_layer_sizes=(100, 50), random_state=1)\n",
    "clr.fit(X_train_reg0, Y_train_reg0)\n",
    "clr_predict = clr.predict(X_val_reg)"
   ]
  },
  {
   "cell_type": "code",
   "execution_count": 18,
   "metadata": {},
   "outputs": [
    {
     "name": "stdout",
     "output_type": "stream",
     "text": [
      "521.929142871\n"
     ]
    }
   ],
   "source": [
    "from sklearn.metrics import mean_squared_error\n",
    "mse_reg = mean_squared_error(Y_val_reg, clr_predict)\n",
    "print(mse_reg)"
   ]
  },
  {
   "cell_type": "code",
   "execution_count": null,
   "metadata": {},
   "outputs": [],
   "source": []
  }
 ],
 "metadata": {
  "kernelspec": {
   "display_name": "Python 3",
   "language": "python",
   "name": "python3"
  },
  "language_info": {
   "codemirror_mode": {
    "name": "ipython",
    "version": 3
   },
   "file_extension": ".py",
   "mimetype": "text/x-python",
   "name": "python",
   "nbconvert_exporter": "python",
   "pygments_lexer": "ipython3",
   "version": "3.6.5"
  }
 },
 "nbformat": 4,
 "nbformat_minor": 2
}
